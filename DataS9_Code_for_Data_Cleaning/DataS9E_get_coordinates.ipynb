{
 "cells": [
  {
   "cell_type": "code",
   "execution_count": 7,
   "metadata": {},
   "outputs": [],
   "source": [
    "import pandas as pd\n",
    "from os import listdir\n",
    "from os.path import isfile, join\n",
    "import requests\n",
    "import math\n",
    "from tqdm import tqdm\n",
    "from opencage.geocoder import OpenCageGeocode"
   ]
  },
  {
   "cell_type": "code",
   "execution_count": 10,
   "metadata": {},
   "outputs": [
    {
     "name": "stdout",
     "output_type": "stream",
     "text": [
      "C:\\Users\\dakot\\Documents\\Trees\\Data Cleaning\n"
     ]
    }
   ],
   "source": [
    "cd C:\\Users\\dakot\\Documents\\Trees\\Data Cleaning\\"
   ]
  },
  {
   "cell_type": "code",
   "execution_count": 9,
   "metadata": {},
   "outputs": [],
   "source": [
    "key = 'efb8bfa10d614e67b5ba72a2934f6b25'\n",
    "geocoder = OpenCageGeocode(key)"
   ]
  },
  {
   "cell_type": "code",
   "execution_count": null,
   "metadata": {},
   "outputs": [
    {
     "name": "stderr",
     "output_type": "stream",
     "text": [
      "  1%|▌                                                                       | 1767/215139 [51:56<108:44:55,  1.83s/it]"
     ]
    }
   ],
   "source": [
    "# Loop through files\n",
    "files = [\"Houston_Final_2021-07-08.csv\", \"Minneapolis_Final_2021-07-08.csv\", \n",
    "         \"Nashville_Final_2021-07-08.csv\", \"Oakland_Final_2021-07-08.csv\", \n",
    "         \"Ontario_Final_2021-07-08.csv\", \"OverlandPark_Final_2021-07-08.csv\", \n",
    "         \"Rochester_Final_2021-07-08.csv\", \"Sacramento_Final_2021-07-08.csv\", \n",
    "         \"Stockton_Final_2021-07-08.csv\"]\n",
    "# Read data\n",
    "file = \"Houston_Final_2021-07-08.csv\"\n",
    "data = pd.read_csv(\"Sheets_Columns_Selected/\"+file, low_memory=False)\n",
    "data = data.fillna('')\n",
    "for index, row in tqdm(data.iterrows(), total=data.shape[0]):\n",
    "\n",
    "    if row['longitude_coordinate'] != '':\n",
    "        continue\n",
    "    \n",
    "    address = row['address']\n",
    "    city = row['city']\n",
    "    state = row['state']\n",
    "    \n",
    "    if len(address) == 0 or len(city) == 0 or len(state) == 0:\n",
    "        continue\n",
    "\n",
    "    query = address+\", \"+city+\", \"+state+\", United States\"\n",
    "    results = geocoder.geocode(query)\n",
    "    \n",
    "    try:\n",
    "        data.loc[index, 'latitude_coordinate'] = results[0]['geometry']['lat']\n",
    "        data.loc[index, 'longitude_coordinate'] = results[0]['geometry']['lng']\n",
    "    except:\n",
    "        data.loc[index, 'latitude_coordinate'] = ''\n",
    "        data.loc[index, 'longitude_coordinate'] = ''\n",
    "\n",
    "    data.to_csv(\"Sheets_Get_Coordinates/\"+file, index=False)\n"
   ]
  },
  {
   "cell_type": "code",
   "execution_count": null,
   "metadata": {},
   "outputs": [],
   "source": []
  }
 ],
 "metadata": {
  "kernelspec": {
   "display_name": "Python 3",
   "language": "python",
   "name": "python3"
  },
  "language_info": {
   "codemirror_mode": {
    "name": "ipython",
    "version": 3
   },
   "file_extension": ".py",
   "mimetype": "text/x-python",
   "name": "python",
   "nbconvert_exporter": "python",
   "pygments_lexer": "ipython3",
   "version": "3.8.5"
  }
 },
 "nbformat": 4,
 "nbformat_minor": 4
}
